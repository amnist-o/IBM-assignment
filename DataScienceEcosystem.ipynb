{
 "cells": [
  {
   "cell_type": "markdown",
   "id": "832731d8-872f-46b5-a64d-fb43794e20cf",
   "metadata": {},
   "source": [
    "# Data Science Tools and Ecosystem\n",
    "In this notebook, Data Science Tools and Ecosystem are summarized."
   ]
  },
  {
   "cell_type": "markdown",
   "id": "20e4ac6d-d41e-4c59-957e-e041ef2ebafe",
   "metadata": {},
   "source": [
    "**Objectives:**\n",
    "- List popular languages in data science\n",
    "- List of commonly used libraries in data science\n",
    "- List of open source data science tools\n",
    "- evaluation of arithmetic expressions in python"
   ]
  },
  {
   "cell_type": "markdown",
   "id": "c11ff33b-205f-491b-95f2-938343446d6b",
   "metadata": {},
   "source": [
    "Some of the popular languages that Data Scientists use are:\n",
    "- Python\n",
    "- R\n",
    "- Scala"
   ]
  },
  {
   "cell_type": "markdown",
   "id": "f61fc0ec-e99c-4525-97dc-8f3ffafc3f93",
   "metadata": {},
   "source": [
    "Some of the commonly used libraries used by Data Scientists include:\n",
    "1. pandas\n",
    "2. numpy\n",
    "3. dplyr\n",
    "4. ggplot2\n",
    "5. matplotlib"
   ]
  },
  {
   "cell_type": "markdown",
   "id": "ee38caf9-7888-4f31-8e83-9b8be30275f0",
   "metadata": {},
   "source": [
    "Data Science Tools|\n",
    "------------------|\n",
    "Anaconda|\n",
    "VS code|\n",
    "R Studio|"
   ]
  },
  {
   "cell_type": "markdown",
   "id": "abc11e87-0f09-46d3-a5f7-30c86ef64edb",
   "metadata": {},
   "source": [
    "### Below are a few examples of evaluating arithmetic expressions in Python"
   ]
  },
  {
   "cell_type": "code",
   "execution_count": 11,
   "id": "85295667-cd92-46ca-98a1-6a45152da157",
   "metadata": {},
   "outputs": [
    {
     "name": "stdout",
     "output_type": "stream",
     "text": [
      "17\n"
     ]
    }
   ],
   "source": [
    "'This a simple arithmetic expression to mutiply then add integers'\n",
    "print((3*4)+5)"
   ]
  },
  {
   "cell_type": "code",
   "execution_count": 12,
   "id": "33ae3f52-969d-4ac7-8567-f024af5f1f6c",
   "metadata": {},
   "outputs": [
    {
     "name": "stdout",
     "output_type": "stream",
     "text": [
      "3.3333333333333335\n"
     ]
    }
   ],
   "source": [
    "'This will convert 200 minutes to hours by diving by 60'\n",
    "minutes = 200\n",
    "print(minutes/60)"
   ]
  },
  {
   "cell_type": "markdown",
   "id": "0ccd7f7e-270b-494f-968d-148b105abf14",
   "metadata": {},
   "source": [
    "## Author\n",
    "Amnist Opapun"
   ]
  }
 ],
 "metadata": {
  "kernelspec": {
   "display_name": "Python 3 (ipykernel)",
   "language": "python",
   "name": "python3"
  },
  "language_info": {
   "codemirror_mode": {
    "name": "ipython",
    "version": 3
   },
   "file_extension": ".py",
   "mimetype": "text/x-python",
   "name": "python",
   "nbconvert_exporter": "python",
   "pygments_lexer": "ipython3",
   "version": "3.11.5"
  }
 },
 "nbformat": 4,
 "nbformat_minor": 5
}
